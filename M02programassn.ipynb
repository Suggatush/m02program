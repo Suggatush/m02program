{
 "cells": [
  {
   "cell_type": "code",
   "execution_count": null,
   "id": "bdd0d453",
   "metadata": {},
   "outputs": [],
   "source": [
    "secret = 4\n",
    "guess = 9\n",
    "if guess > secret:\n",
    "    print(\"too high\")\n",
    "elif guess < secret:\n",
    "    print(\"too low\")\n",
    "else:\n",
    "    print(\"just right\")\n",
    "    "
   ]
  },
  {
   "cell_type": "code",
   "execution_count": null,
   "id": "f953e3a0",
   "metadata": {},
   "outputs": [],
   "source": [
    "green = True\n",
    "small = True\n",
    "\n",
    "if green:\n",
    "    if small:\n",
    "        print(\"Its a pea!\")\n",
    "    else:\n",
    "        print(\"Its a watermelon\")\n",
    "else:\n",
    "    if small:\n",
    "        print(\"Its a cherry\")\n",
    "    else:\n",
    "        print(\"Its a pumpkin\")"
   ]
  },
  {
   "cell_type": "code",
   "execution_count": 2,
   "id": "f00014bc",
   "metadata": {},
   "outputs": [
    {
     "name": "stdout",
     "output_type": "stream",
     "text": [
      "3\n",
      "2\n",
      "1\n",
      "0\n"
     ]
    }
   ],
   "source": [
    "for x in range(3,-1,-1):\n",
    "    print(x)"
   ]
  },
  {
   "cell_type": "code",
   "execution_count": 3,
   "id": "3a2cfa1a",
   "metadata": {},
   "outputs": [
    {
     "name": "stdout",
     "output_type": "stream",
     "text": [
      "too low\n",
      "too low\n",
      "too low\n",
      "too low\n",
      "too low\n",
      "too low\n",
      "found it!\n"
     ]
    }
   ],
   "source": [
    "guess_me = 7\n",
    "number = 1\n",
    "\n",
    "while guess_me != number:\n",
    "    if number < guess_me:\n",
    "        print(\"too low\")\n",
    "        number += 1\n",
    "    if number == guess_me:\n",
    "        print(\"found it!\")\n",
    "        break\n",
    "    if number > guess_me:\n",
    "        print(\"oops\")\n",
    "        break"
   ]
  },
  {
   "cell_type": "code",
   "execution_count": 4,
   "id": "fe7659eb",
   "metadata": {},
   "outputs": [
    {
     "name": "stdout",
     "output_type": "stream",
     "text": [
      "1\n",
      "too low\n",
      "2\n",
      "too low\n",
      "3\n",
      "too low\n",
      "4\n",
      "too low\n",
      "found it!\n",
      "5 is the number!\n"
     ]
    }
   ],
   "source": [
    "guess_me = 5\n",
    "number = 1\n",
    "\n",
    "\n",
    "for number in range(1,10):\n",
    "    if number < guess_me:\n",
    "        print(number)\n",
    "        print(\"too low\")\n",
    "        \n",
    "    if guess_me == number:\n",
    "        print(\"found it!\")\n",
    "        print(number, \"is the number!\")\n",
    "        break\n",
    "    if number > guess_me:\n",
    "        print(\"oops\")\n",
    "        break"
   ]
  },
  {
   "cell_type": "code",
   "execution_count": null,
   "id": "5b8885eb",
   "metadata": {},
   "outputs": [],
   "source": []
  }
 ],
 "metadata": {
  "kernelspec": {
   "display_name": "Python 3 (ipykernel)",
   "language": "python",
   "name": "python3"
  },
  "language_info": {
   "codemirror_mode": {
    "name": "ipython",
    "version": 3
   },
   "file_extension": ".py",
   "mimetype": "text/x-python",
   "name": "python",
   "nbconvert_exporter": "python",
   "pygments_lexer": "ipython3",
   "version": "3.11.5"
  }
 },
 "nbformat": 4,
 "nbformat_minor": 5
}
